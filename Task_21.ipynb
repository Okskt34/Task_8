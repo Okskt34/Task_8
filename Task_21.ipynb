{
 "cells": [
  {
   "cell_type": "code",
   "execution_count": 1,
   "id": "78fe5166",
   "metadata": {},
   "outputs": [],
   "source": [
    "import numpy as np"
   ]
  },
  {
   "cell_type": "code",
   "execution_count": 2,
   "id": "a5c5b8fc",
   "metadata": {},
   "outputs": [
    {
     "name": "stdout",
     "output_type": "stream",
     "text": [
      "[[11 13 15]\n",
      " [17 19 21]\n",
      " [23 25 27]]\n",
      "[[-9 -9 -9]\n",
      " [-9 -9 -9]\n",
      " [-9 -9 -9]]\n",
      "[[ 84  90  96]\n",
      " [201 216 231]\n",
      " [318 342 366]]\n"
     ]
    }
   ],
   "source": [
    "class Matrix:\n",
    "    def __init__(self, matrix1, matrix2):\n",
    "        self.matrix1 = np.array(matrix1).reshape(3,3)\n",
    "        self.matrix2 = np.array(matrix2).reshape(3,3)\n",
    "\n",
    "    def add_matrices(self):\n",
    "        return self.matrix1 + self.matrix2\n",
    "\n",
    "    def subtract_matrices(self):\n",
    "        return self.matrix1 - self.matrix2\n",
    "\n",
    "    def multiply_matrices(self):\n",
    "        return np.dot(self.matrix1, self.matrix2)\n",
    "\n",
    "matrix1 = [[1, 2, 3], [4, 5, 6], [7, 8, 9]]\n",
    "matrix2 = [[10, 11, 12], [13, 14, 15], [16, 17, 18]]\n",
    "\n",
    "matrix = Matrix(matrix1, matrix2)\n",
    "\n",
    "print(matrix.add_matrices())\n",
    "print(matrix.subtract_matrices())\n",
    "print(matrix.multiply_matrices())"
   ]
  },
  {
   "cell_type": "code",
   "execution_count": 3,
   "id": "8bfb5f95",
   "metadata": {},
   "outputs": [
    {
     "name": "stdout",
     "output_type": "stream",
     "text": [
      "[[1 2 3]\n",
      " [4 5 6]\n",
      " [7 8 9]]\n"
     ]
    }
   ],
   "source": [
    "arr = np.arange(1, 10)\n",
    "\n",
    "matrix = arr.reshape((3, 3))\n",
    "\n",
    "print(matrix)"
   ]
  },
  {
   "cell_type": "code",
   "execution_count": 4,
   "id": "f39fe1d8",
   "metadata": {},
   "outputs": [
    {
     "name": "stdout",
     "output_type": "stream",
     "text": [
      "[[1 4 7]\n",
      " [2 5 8]\n",
      " [3 6 9]]\n"
     ]
    }
   ],
   "source": [
    "matrix = np.arange(1, 10).reshape(3, 3)\n",
    "\n",
    "transposed_matrix = np.transpose(matrix)\n",
    "\n",
    "print(transposed_matrix)"
   ]
  },
  {
   "cell_type": "code",
   "execution_count": 5,
   "id": "ff4f578f",
   "metadata": {},
   "outputs": [
    {
     "name": "stdout",
     "output_type": "stream",
     "text": [
      "[[ 5 10 15]\n",
      " [20 25 30]\n",
      " [35 40 45]]\n"
     ]
    }
   ],
   "source": [
    "matrix = np.arange(1, 10).reshape(3, 3)\n",
    "\n",
    "result = matrix * 5\n",
    "\n",
    "print(result)"
   ]
  },
  {
   "cell_type": "code",
   "execution_count": 6,
   "id": "ac75b2e6",
   "metadata": {},
   "outputs": [
    {
     "name": "stdout",
     "output_type": "stream",
     "text": [
      "[[1 2 3]]\n",
      "[[4]\n",
      " [5]\n",
      " [6]]\n"
     ]
    }
   ],
   "source": [
    "horizontal_matrix = np.array([[1, 2, 3]])\n",
    "\n",
    "vertical_matrix = np.array([[4], [5], [6]])\n",
    "\n",
    "print(horizontal_matrix)\n",
    "print(vertical_matrix)"
   ]
  },
  {
   "cell_type": "code",
   "execution_count": 7,
   "id": "e44ce0dc",
   "metadata": {},
   "outputs": [
    {
     "name": "stdout",
     "output_type": "stream",
     "text": [
      "[[32]]\n"
     ]
    }
   ],
   "source": [
    "horizontal_matrix = np.array([[1, 2, 3]])\n",
    "\n",
    "vertical_matrix = np.array([[4], [5], [6]])\n",
    "\n",
    "result = np.dot(horizontal_matrix, vertical_matrix)\n",
    "\n",
    "print(result)"
   ]
  },
  {
   "cell_type": "code",
   "execution_count": null,
   "id": "d0b162b3",
   "metadata": {},
   "outputs": [],
   "source": []
  }
 ],
 "metadata": {
  "kernelspec": {
   "display_name": "Python 3 (ipykernel)",
   "language": "python",
   "name": "python3"
  },
  "language_info": {
   "codemirror_mode": {
    "name": "ipython",
    "version": 3
   },
   "file_extension": ".py",
   "mimetype": "text/x-python",
   "name": "python",
   "nbconvert_exporter": "python",
   "pygments_lexer": "ipython3",
   "version": "3.10.9"
  }
 },
 "nbformat": 4,
 "nbformat_minor": 5
}
