{
 "cells": [
  {
   "cell_type": "code",
   "execution_count": 1,
   "id": "e0f2dc2f",
   "metadata": {},
   "outputs": [],
   "source": [
    "import math"
   ]
  },
  {
   "cell_type": "code",
   "execution_count": 2,
   "id": "35bbc6b3",
   "metadata": {},
   "outputs": [],
   "source": [
    "n = 10000  \n",
    "p = 0.9993  \n",
    "q = 0.0007"
   ]
  },
  {
   "cell_type": "code",
   "execution_count": 3,
   "id": "4b3c7271",
   "metadata": {},
   "outputs": [],
   "source": [
    "mean = n * p"
   ]
  },
  {
   "cell_type": "code",
   "execution_count": 4,
   "id": "b7b74ef2",
   "metadata": {},
   "outputs": [],
   "source": [
    "std_deviation = math.sqrt(n * p * q)"
   ]
  },
  {
   "cell_type": "code",
   "execution_count": 5,
   "id": "91e26baf",
   "metadata": {},
   "outputs": [
    {
     "name": "stdout",
     "output_type": "stream",
     "text": [
      "Математичне сподівання M(X): 9993.0\n"
     ]
    }
   ],
   "source": [
    "print(\"Математичне сподівання M(X):\", mean)"
   ]
  },
  {
   "cell_type": "code",
   "execution_count": 6,
   "id": "d9407e8c",
   "metadata": {},
   "outputs": [
    {
     "name": "stdout",
     "output_type": "stream",
     "text": [
      "Середнє квадратичне відхилення S(X): 2.644825135996707\n"
     ]
    }
   ],
   "source": [
    "print(\"Середнє квадратичне відхилення S(X):\", std_deviation)"
   ]
  },
  {
   "cell_type": "code",
   "execution_count": 7,
   "id": "7cc68fc3",
   "metadata": {},
   "outputs": [],
   "source": [
    "import math"
   ]
  },
  {
   "cell_type": "code",
   "execution_count": 8,
   "id": "7fcd16ed",
   "metadata": {},
   "outputs": [],
   "source": [
    "n = 10000  \n",
    "p = 0.9999  \n",
    "q = 0.0001"
   ]
  },
  {
   "cell_type": "code",
   "execution_count": 9,
   "id": "34e1aa54",
   "metadata": {},
   "outputs": [],
   "source": [
    "variance = n * p * q"
   ]
  },
  {
   "cell_type": "code",
   "execution_count": 10,
   "id": "119bcd75",
   "metadata": {},
   "outputs": [],
   "source": [
    "std_deviation = math.sqrt(variance)"
   ]
  },
  {
   "cell_type": "code",
   "execution_count": 11,
   "id": "e994d4b1",
   "metadata": {},
   "outputs": [
    {
     "name": "stdout",
     "output_type": "stream",
     "text": [
      "Дисперсія D(X): 0.9999\n"
     ]
    }
   ],
   "source": [
    "print(\"Дисперсія D(X):\", variance)"
   ]
  },
  {
   "cell_type": "code",
   "execution_count": 12,
   "id": "9105c43c",
   "metadata": {},
   "outputs": [
    {
     "name": "stdout",
     "output_type": "stream",
     "text": [
      "Середнє квадратичне відхилення S(X): 0.9999499987499375\n"
     ]
    }
   ],
   "source": [
    "print(\"Середнє квадратичне відхилення S(X):\", std_deviation)"
   ]
  },
  {
   "cell_type": "code",
   "execution_count": null,
   "id": "73fcee04",
   "metadata": {},
   "outputs": [],
   "source": []
  }
 ],
 "metadata": {
  "kernelspec": {
   "display_name": "Python 3 (ipykernel)",
   "language": "python",
   "name": "python3"
  },
  "language_info": {
   "codemirror_mode": {
    "name": "ipython",
    "version": 3
   },
   "file_extension": ".py",
   "mimetype": "text/x-python",
   "name": "python",
   "nbconvert_exporter": "python",
   "pygments_lexer": "ipython3",
   "version": "3.10.9"
  }
 },
 "nbformat": 4,
 "nbformat_minor": 5
}
