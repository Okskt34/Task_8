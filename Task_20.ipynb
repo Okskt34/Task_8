{
 "cells": [
  {
   "cell_type": "code",
   "execution_count": 1,
   "id": "8be7a627",
   "metadata": {},
   "outputs": [
    {
     "ename": "SyntaxError",
     "evalue": "invalid syntax (1449779776.py, line 1)",
     "output_type": "error",
     "traceback": [
      "\u001b[1;36m  Cell \u001b[1;32mIn[1], line 1\u001b[1;36m\u001b[0m\n\u001b[1;33m    | year | rank | company               | revenue | profit  |\u001b[0m\n\u001b[1;37m    ^\u001b[0m\n\u001b[1;31mSyntaxError\u001b[0m\u001b[1;31m:\u001b[0m invalid syntax\n"
     ]
    }
   ],
   "source": [
    "| year | rank | company               | revenue | profit  |\n",
    "|------|------|-----------------------|---------|---------|\n",
    "| 1955 | 229  | Norton                | 135.0   | N.A.    |\n",
    "| 1955 | 291  | Schlitz Brewing       | 100.0   | N.A.    |\n",
    "| 1955 | 295  | Pacific Vegetable Oil | 97.9    | N.A.    |\n",
    "| 1955 | 297  | Liebmann Breweries    | 96.0    | N.A.    |\n",
    "| 1955 | 353  | Minneapolis-Moline    | 77.4    | N.A.    |\n"
   ]
  },
  {
   "cell_type": "code",
   "execution_count": 1,
   "id": "775f0178",
   "metadata": {},
   "outputs": [
    {
     "name": "stdout",
     "output_type": "stream",
     "text": [
      "16.2 ms ± 119 µs per loop (mean ± std. dev. of 7 runs, 100 loops each)\n"
     ]
    }
   ],
   "source": [
    "%%timeit\n",
    "\n",
    "import random\n",
    "import string\n",
    "\n",
    "int_list = []\n",
    "float_list = []\n",
    "str_list = []\n",
    "\n",
    "for i in range(5000):\n",
    "    int_list.append(random.randint(0, 1000))\n",
    "\n",
    "for i in range(5000):\n",
    "    float_list.append(round(random.uniform(0.1, 100.0), 2))\n",
    "\n",
    "for i in range(5000):\n",
    "    str_list.append(''.join(random.choices(string.ascii_letters, k=10)))"
   ]
  },
  {
   "cell_type": "code",
   "execution_count": null,
   "id": "8c6f9420",
   "metadata": {},
   "outputs": [],
   "source": []
  }
 ],
 "metadata": {
  "kernelspec": {
   "display_name": "Python 3 (ipykernel)",
   "language": "python",
   "name": "python3"
  },
  "language_info": {
   "codemirror_mode": {
    "name": "ipython",
    "version": 3
   },
   "file_extension": ".py",
   "mimetype": "text/x-python",
   "name": "python",
   "nbconvert_exporter": "python",
   "pygments_lexer": "ipython3",
   "version": "3.10.9"
  }
 },
 "nbformat": 4,
 "nbformat_minor": 5
}
